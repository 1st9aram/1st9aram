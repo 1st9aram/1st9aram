{
  "nbformat": 4,
  "nbformat_minor": 0,
  "metadata": {
    "colab": {
      "name": "rf_gb_ensemble.ipynb",
      "provenance": [],
      "collapsed_sections": [],
      "authorship_tag": "ABX9TyM+XdhdSUbGLGTKUBFYeAQY",
      "include_colab_link": true
    },
    "kernelspec": {
      "name": "python3",
      "display_name": "Python 3"
    },
    "language_info": {
      "name": "python"
    }
  },
  "cells": [
    {
      "cell_type": "markdown",
      "metadata": {
        "id": "view-in-github",
        "colab_type": "text"
      },
      "source": [
        "<a href=\"https://colab.research.google.com/github/1st9aram/1st9aram/blob/main/rf_gb_ensemble.ipynb\" target=\"_parent\"><img src=\"https://colab.research.google.com/assets/colab-badge.svg\" alt=\"Open In Colab\"/></a>"
      ]
    },
    {
      "cell_type": "code",
      "execution_count": null,
      "metadata": {
        "colab": {
          "base_uri": "https://localhost:8080/"
        },
        "id": "96v2gjTPsZcr",
        "outputId": "7157d529-31e5-476f-bc55-5a7e9b4bc967"
      },
      "outputs": [
        {
          "output_type": "stream",
          "name": "stdout",
          "text": [
            "Drive already mounted at /content/drive; to attempt to forcibly remount, call drive.mount(\"/content/drive\", force_remount=True).\n"
          ]
        }
      ],
      "source": [
        "from google.colab import drive\n",
        "drive.mount('/content/drive')"
      ]
    },
    {
      "cell_type": "code",
      "source": [
        "import os\n",
        "import pandas as pd\n",
        "import numpy as np"
      ],
      "metadata": {
        "id": "C_bP7BugsgXx"
      },
      "execution_count": null,
      "outputs": []
    },
    {
      "cell_type": "code",
      "source": [
        "os.chdir(\"/content/drive/MyDrive/Colab Notebooks/dacon/house_prices_regression/\")\n",
        "print(os.getcwd())"
      ],
      "metadata": {
        "colab": {
          "base_uri": "https://localhost:8080/"
        },
        "id": "q32RdKlxuf4M",
        "outputId": "5f4d3d07-c6d9-4670-b80e-8df6c4f14c5b"
      },
      "execution_count": null,
      "outputs": [
        {
          "output_type": "stream",
          "name": "stdout",
          "text": [
            "/content/drive/MyDrive/Colab Notebooks/dacon/house_prices_regression\n"
          ]
        }
      ]
    },
    {
      "cell_type": "code",
      "source": [
        "train = pd.read_csv('./housing/train.csv')\n",
        "test = pd.read_csv('./housing/test.csv')\n",
        "submission = pd.read_csv('./housing/sample_submission.csv')"
      ],
      "metadata": {
        "id": "_CWUziAFuiO1"
      },
      "execution_count": null,
      "outputs": []
    },
    {
      "cell_type": "code",
      "source": [
        "train.info()"
      ],
      "metadata": {
        "colab": {
          "base_uri": "https://localhost:8080/"
        },
        "id": "muWdB5ClumgB",
        "outputId": "b136741c-35e7-4fb3-a264-6e9b9ea30077"
      },
      "execution_count": null,
      "outputs": [
        {
          "output_type": "stream",
          "name": "stdout",
          "text": [
            "<class 'pandas.core.frame.DataFrame'>\n",
            "RangeIndex: 1350 entries, 0 to 1349\n",
            "Data columns (total 15 columns):\n",
            " #   Column          Non-Null Count  Dtype \n",
            "---  ------          --------------  ----- \n",
            " 0   id              1350 non-null   int64 \n",
            " 1   Overall Qual    1350 non-null   int64 \n",
            " 2   Gr Liv Area     1350 non-null   int64 \n",
            " 3   Exter Qual      1350 non-null   object\n",
            " 4   Garage Cars     1350 non-null   int64 \n",
            " 5   Garage Area     1350 non-null   int64 \n",
            " 6   Kitchen Qual    1350 non-null   object\n",
            " 7   Total Bsmt SF   1350 non-null   int64 \n",
            " 8   1st Flr SF      1350 non-null   int64 \n",
            " 9   Bsmt Qual       1350 non-null   object\n",
            " 10  Full Bath       1350 non-null   int64 \n",
            " 11  Year Built      1350 non-null   int64 \n",
            " 12  Year Remod/Add  1350 non-null   int64 \n",
            " 13  Garage Yr Blt   1350 non-null   int64 \n",
            " 14  target          1350 non-null   int64 \n",
            "dtypes: int64(12), object(3)\n",
            "memory usage: 158.3+ KB\n"
          ]
        }
      ]
    },
    {
      "cell_type": "code",
      "source": [
        "test.info()"
      ],
      "metadata": {
        "colab": {
          "base_uri": "https://localhost:8080/"
        },
        "id": "ZHNtUMGEv86N",
        "outputId": "1d48f0a7-849a-4ee9-af92-5dedd607ab14"
      },
      "execution_count": null,
      "outputs": [
        {
          "output_type": "stream",
          "name": "stdout",
          "text": [
            "<class 'pandas.core.frame.DataFrame'>\n",
            "RangeIndex: 1350 entries, 0 to 1349\n",
            "Data columns (total 14 columns):\n",
            " #   Column          Non-Null Count  Dtype \n",
            "---  ------          --------------  ----- \n",
            " 0   id              1350 non-null   int64 \n",
            " 1   Overall Qual    1350 non-null   int64 \n",
            " 2   Gr Liv Area     1350 non-null   int64 \n",
            " 3   Exter Qual      1350 non-null   object\n",
            " 4   Garage Cars     1350 non-null   int64 \n",
            " 5   Garage Area     1350 non-null   int64 \n",
            " 6   Kitchen Qual    1350 non-null   object\n",
            " 7   Total Bsmt SF   1350 non-null   int64 \n",
            " 8   1st Flr SF      1350 non-null   int64 \n",
            " 9   Bsmt Qual       1350 non-null   object\n",
            " 10  Full Bath       1350 non-null   int64 \n",
            " 11  Year Built      1350 non-null   int64 \n",
            " 12  Year Remod/Add  1350 non-null   int64 \n",
            " 13  Garage Yr Blt   1350 non-null   int64 \n",
            "dtypes: int64(11), object(3)\n",
            "memory usage: 147.8+ KB\n"
          ]
        }
      ]
    },
    {
      "cell_type": "code",
      "source": [
        "train = train.iloc[:, 1:]\n",
        "test = test.iloc[:, 1:]"
      ],
      "metadata": {
        "id": "8aLGxpimv_XF"
      },
      "execution_count": null,
      "outputs": []
    },
    {
      "cell_type": "code",
      "source": [
        "train.describe()"
      ],
      "metadata": {
        "colab": {
          "base_uri": "https://localhost:8080/",
          "height": 300
        },
        "id": "ZSMWcSEtwYdU",
        "outputId": "e8da684c-504d-4e43-d783-13e5b109e92d"
      },
      "execution_count": null,
      "outputs": [
        {
          "output_type": "execute_result",
          "data": {
            "text/html": [
              "\n",
              "  <div id=\"df-b9017466-a0a5-42ce-8693-506937894b8c\">\n",
              "    <div class=\"colab-df-container\">\n",
              "      <div>\n",
              "<style scoped>\n",
              "    .dataframe tbody tr th:only-of-type {\n",
              "        vertical-align: middle;\n",
              "    }\n",
              "\n",
              "    .dataframe tbody tr th {\n",
              "        vertical-align: top;\n",
              "    }\n",
              "\n",
              "    .dataframe thead th {\n",
              "        text-align: right;\n",
              "    }\n",
              "</style>\n",
              "<table border=\"1\" class=\"dataframe\">\n",
              "  <thead>\n",
              "    <tr style=\"text-align: right;\">\n",
              "      <th></th>\n",
              "      <th>Overall Qual</th>\n",
              "      <th>Gr Liv Area</th>\n",
              "      <th>Garage Cars</th>\n",
              "      <th>Garage Area</th>\n",
              "      <th>Total Bsmt SF</th>\n",
              "      <th>1st Flr SF</th>\n",
              "      <th>Full Bath</th>\n",
              "      <th>Year Built</th>\n",
              "      <th>Year Remod/Add</th>\n",
              "      <th>Garage Yr Blt</th>\n",
              "      <th>target</th>\n",
              "    </tr>\n",
              "  </thead>\n",
              "  <tbody>\n",
              "    <tr>\n",
              "      <th>count</th>\n",
              "      <td>1350.000000</td>\n",
              "      <td>1350.000000</td>\n",
              "      <td>1350.000000</td>\n",
              "      <td>1350.000000</td>\n",
              "      <td>1350.000000</td>\n",
              "      <td>1350.000000</td>\n",
              "      <td>1350.000000</td>\n",
              "      <td>1350.000000</td>\n",
              "      <td>1350.000000</td>\n",
              "      <td>1350.000000</td>\n",
              "      <td>1350.000000</td>\n",
              "    </tr>\n",
              "    <tr>\n",
              "      <th>mean</th>\n",
              "      <td>6.208889</td>\n",
              "      <td>1513.542222</td>\n",
              "      <td>1.870370</td>\n",
              "      <td>502.014815</td>\n",
              "      <td>1082.644444</td>\n",
              "      <td>1167.474074</td>\n",
              "      <td>1.560741</td>\n",
              "      <td>1972.987407</td>\n",
              "      <td>1985.099259</td>\n",
              "      <td>1978.471852</td>\n",
              "      <td>186406.312593</td>\n",
              "    </tr>\n",
              "    <tr>\n",
              "      <th>std</th>\n",
              "      <td>1.338015</td>\n",
              "      <td>487.523239</td>\n",
              "      <td>0.652483</td>\n",
              "      <td>191.389956</td>\n",
              "      <td>384.067713</td>\n",
              "      <td>375.061407</td>\n",
              "      <td>0.551646</td>\n",
              "      <td>29.307257</td>\n",
              "      <td>20.153244</td>\n",
              "      <td>25.377278</td>\n",
              "      <td>78435.424758</td>\n",
              "    </tr>\n",
              "    <tr>\n",
              "      <th>min</th>\n",
              "      <td>2.000000</td>\n",
              "      <td>480.000000</td>\n",
              "      <td>1.000000</td>\n",
              "      <td>100.000000</td>\n",
              "      <td>105.000000</td>\n",
              "      <td>480.000000</td>\n",
              "      <td>0.000000</td>\n",
              "      <td>1880.000000</td>\n",
              "      <td>1950.000000</td>\n",
              "      <td>1900.000000</td>\n",
              "      <td>12789.000000</td>\n",
              "    </tr>\n",
              "    <tr>\n",
              "      <th>25%</th>\n",
              "      <td>5.000000</td>\n",
              "      <td>1144.000000</td>\n",
              "      <td>1.000000</td>\n",
              "      <td>368.000000</td>\n",
              "      <td>816.000000</td>\n",
              "      <td>886.250000</td>\n",
              "      <td>1.000000</td>\n",
              "      <td>1955.000000</td>\n",
              "      <td>1968.000000</td>\n",
              "      <td>1961.000000</td>\n",
              "      <td>135000.000000</td>\n",
              "    </tr>\n",
              "    <tr>\n",
              "      <th>50%</th>\n",
              "      <td>6.000000</td>\n",
              "      <td>1445.500000</td>\n",
              "      <td>2.000000</td>\n",
              "      <td>484.000000</td>\n",
              "      <td>1009.000000</td>\n",
              "      <td>1092.500000</td>\n",
              "      <td>2.000000</td>\n",
              "      <td>1976.000000</td>\n",
              "      <td>1993.000000</td>\n",
              "      <td>1978.500000</td>\n",
              "      <td>165375.000000</td>\n",
              "    </tr>\n",
              "    <tr>\n",
              "      <th>75%</th>\n",
              "      <td>7.000000</td>\n",
              "      <td>1774.500000</td>\n",
              "      <td>2.000000</td>\n",
              "      <td>588.000000</td>\n",
              "      <td>1309.500000</td>\n",
              "      <td>1396.500000</td>\n",
              "      <td>2.000000</td>\n",
              "      <td>2002.000000</td>\n",
              "      <td>2004.000000</td>\n",
              "      <td>2002.000000</td>\n",
              "      <td>217875.000000</td>\n",
              "    </tr>\n",
              "    <tr>\n",
              "      <th>max</th>\n",
              "      <td>10.000000</td>\n",
              "      <td>4476.000000</td>\n",
              "      <td>5.000000</td>\n",
              "      <td>1488.000000</td>\n",
              "      <td>2660.000000</td>\n",
              "      <td>2898.000000</td>\n",
              "      <td>4.000000</td>\n",
              "      <td>2010.000000</td>\n",
              "      <td>2010.000000</td>\n",
              "      <td>2207.000000</td>\n",
              "      <td>745000.000000</td>\n",
              "    </tr>\n",
              "  </tbody>\n",
              "</table>\n",
              "</div>\n",
              "      <button class=\"colab-df-convert\" onclick=\"convertToInteractive('df-b9017466-a0a5-42ce-8693-506937894b8c')\"\n",
              "              title=\"Convert this dataframe to an interactive table.\"\n",
              "              style=\"display:none;\">\n",
              "        \n",
              "  <svg xmlns=\"http://www.w3.org/2000/svg\" height=\"24px\"viewBox=\"0 0 24 24\"\n",
              "       width=\"24px\">\n",
              "    <path d=\"M0 0h24v24H0V0z\" fill=\"none\"/>\n",
              "    <path d=\"M18.56 5.44l.94 2.06.94-2.06 2.06-.94-2.06-.94-.94-2.06-.94 2.06-2.06.94zm-11 1L8.5 8.5l.94-2.06 2.06-.94-2.06-.94L8.5 2.5l-.94 2.06-2.06.94zm10 10l.94 2.06.94-2.06 2.06-.94-2.06-.94-.94-2.06-.94 2.06-2.06.94z\"/><path d=\"M17.41 7.96l-1.37-1.37c-.4-.4-.92-.59-1.43-.59-.52 0-1.04.2-1.43.59L10.3 9.45l-7.72 7.72c-.78.78-.78 2.05 0 2.83L4 21.41c.39.39.9.59 1.41.59.51 0 1.02-.2 1.41-.59l7.78-7.78 2.81-2.81c.8-.78.8-2.07 0-2.86zM5.41 20L4 18.59l7.72-7.72 1.47 1.35L5.41 20z\"/>\n",
              "  </svg>\n",
              "      </button>\n",
              "      \n",
              "  <style>\n",
              "    .colab-df-container {\n",
              "      display:flex;\n",
              "      flex-wrap:wrap;\n",
              "      gap: 12px;\n",
              "    }\n",
              "\n",
              "    .colab-df-convert {\n",
              "      background-color: #E8F0FE;\n",
              "      border: none;\n",
              "      border-radius: 50%;\n",
              "      cursor: pointer;\n",
              "      display: none;\n",
              "      fill: #1967D2;\n",
              "      height: 32px;\n",
              "      padding: 0 0 0 0;\n",
              "      width: 32px;\n",
              "    }\n",
              "\n",
              "    .colab-df-convert:hover {\n",
              "      background-color: #E2EBFA;\n",
              "      box-shadow: 0px 1px 2px rgba(60, 64, 67, 0.3), 0px 1px 3px 1px rgba(60, 64, 67, 0.15);\n",
              "      fill: #174EA6;\n",
              "    }\n",
              "\n",
              "    [theme=dark] .colab-df-convert {\n",
              "      background-color: #3B4455;\n",
              "      fill: #D2E3FC;\n",
              "    }\n",
              "\n",
              "    [theme=dark] .colab-df-convert:hover {\n",
              "      background-color: #434B5C;\n",
              "      box-shadow: 0px 1px 3px 1px rgba(0, 0, 0, 0.15);\n",
              "      filter: drop-shadow(0px 1px 2px rgba(0, 0, 0, 0.3));\n",
              "      fill: #FFFFFF;\n",
              "    }\n",
              "  </style>\n",
              "\n",
              "      <script>\n",
              "        const buttonEl =\n",
              "          document.querySelector('#df-b9017466-a0a5-42ce-8693-506937894b8c button.colab-df-convert');\n",
              "        buttonEl.style.display =\n",
              "          google.colab.kernel.accessAllowed ? 'block' : 'none';\n",
              "\n",
              "        async function convertToInteractive(key) {\n",
              "          const element = document.querySelector('#df-b9017466-a0a5-42ce-8693-506937894b8c');\n",
              "          const dataTable =\n",
              "            await google.colab.kernel.invokeFunction('convertToInteractive',\n",
              "                                                     [key], {});\n",
              "          if (!dataTable) return;\n",
              "\n",
              "          const docLinkHtml = 'Like what you see? Visit the ' +\n",
              "            '<a target=\"_blank\" href=https://colab.research.google.com/notebooks/data_table.ipynb>data table notebook</a>'\n",
              "            + ' to learn more about interactive tables.';\n",
              "          element.innerHTML = '';\n",
              "          dataTable['output_type'] = 'display_data';\n",
              "          await google.colab.output.renderOutput(dataTable, element);\n",
              "          const docLink = document.createElement('div');\n",
              "          docLink.innerHTML = docLinkHtml;\n",
              "          element.appendChild(docLink);\n",
              "        }\n",
              "      </script>\n",
              "    </div>\n",
              "  </div>\n",
              "  "
            ],
            "text/plain": [
              "       Overall Qual  Gr Liv Area  ...  Garage Yr Blt         target\n",
              "count   1350.000000  1350.000000  ...    1350.000000    1350.000000\n",
              "mean       6.208889  1513.542222  ...    1978.471852  186406.312593\n",
              "std        1.338015   487.523239  ...      25.377278   78435.424758\n",
              "min        2.000000   480.000000  ...    1900.000000   12789.000000\n",
              "25%        5.000000  1144.000000  ...    1961.000000  135000.000000\n",
              "50%        6.000000  1445.500000  ...    1978.500000  165375.000000\n",
              "75%        7.000000  1774.500000  ...    2002.000000  217875.000000\n",
              "max       10.000000  4476.000000  ...    2207.000000  745000.000000\n",
              "\n",
              "[8 rows x 11 columns]"
            ]
          },
          "metadata": {},
          "execution_count": 8
        }
      ]
    },
    {
      "cell_type": "code",
      "source": [
        "test.describe()"
      ],
      "metadata": {
        "colab": {
          "base_uri": "https://localhost:8080/",
          "height": 300
        },
        "id": "os0nvL5_ySk-",
        "outputId": "c0644f07-c062-4350-b425-296f58466058"
      },
      "execution_count": null,
      "outputs": [
        {
          "output_type": "execute_result",
          "data": {
            "text/html": [
              "\n",
              "  <div id=\"df-94d74957-545c-4c47-aeb0-232562aed3a3\">\n",
              "    <div class=\"colab-df-container\">\n",
              "      <div>\n",
              "<style scoped>\n",
              "    .dataframe tbody tr th:only-of-type {\n",
              "        vertical-align: middle;\n",
              "    }\n",
              "\n",
              "    .dataframe tbody tr th {\n",
              "        vertical-align: top;\n",
              "    }\n",
              "\n",
              "    .dataframe thead th {\n",
              "        text-align: right;\n",
              "    }\n",
              "</style>\n",
              "<table border=\"1\" class=\"dataframe\">\n",
              "  <thead>\n",
              "    <tr style=\"text-align: right;\">\n",
              "      <th></th>\n",
              "      <th>Overall Qual</th>\n",
              "      <th>Gr Liv Area</th>\n",
              "      <th>Garage Cars</th>\n",
              "      <th>Garage Area</th>\n",
              "      <th>Total Bsmt SF</th>\n",
              "      <th>1st Flr SF</th>\n",
              "      <th>Full Bath</th>\n",
              "      <th>Year Built</th>\n",
              "      <th>Year Remod/Add</th>\n",
              "      <th>Garage Yr Blt</th>\n",
              "    </tr>\n",
              "  </thead>\n",
              "  <tbody>\n",
              "    <tr>\n",
              "      <th>count</th>\n",
              "      <td>1350.000000</td>\n",
              "      <td>1350.000000</td>\n",
              "      <td>1350.000000</td>\n",
              "      <td>1350.000000</td>\n",
              "      <td>1350.000000</td>\n",
              "      <td>1350.000000</td>\n",
              "      <td>1350.000000</td>\n",
              "      <td>1350.000000</td>\n",
              "      <td>1350.000000</td>\n",
              "      <td>1350.000000</td>\n",
              "    </tr>\n",
              "    <tr>\n",
              "      <th>mean</th>\n",
              "      <td>6.237037</td>\n",
              "      <td>1524.071111</td>\n",
              "      <td>1.871852</td>\n",
              "      <td>499.867407</td>\n",
              "      <td>1101.222222</td>\n",
              "      <td>1175.714815</td>\n",
              "      <td>1.597778</td>\n",
              "      <td>1973.537778</td>\n",
              "      <td>1985.258519</td>\n",
              "      <td>1978.457037</td>\n",
              "    </tr>\n",
              "    <tr>\n",
              "      <th>std</th>\n",
              "      <td>1.370057</td>\n",
              "      <td>514.410852</td>\n",
              "      <td>0.651639</td>\n",
              "      <td>186.267579</td>\n",
              "      <td>431.641042</td>\n",
              "      <td>406.858231</td>\n",
              "      <td>0.549002</td>\n",
              "      <td>29.799448</td>\n",
              "      <td>20.818442</td>\n",
              "      <td>25.771750</td>\n",
              "    </tr>\n",
              "    <tr>\n",
              "      <th>min</th>\n",
              "      <td>2.000000</td>\n",
              "      <td>407.000000</td>\n",
              "      <td>1.000000</td>\n",
              "      <td>160.000000</td>\n",
              "      <td>173.000000</td>\n",
              "      <td>407.000000</td>\n",
              "      <td>0.000000</td>\n",
              "      <td>1879.000000</td>\n",
              "      <td>1950.000000</td>\n",
              "      <td>1895.000000</td>\n",
              "    </tr>\n",
              "    <tr>\n",
              "      <th>25%</th>\n",
              "      <td>5.000000</td>\n",
              "      <td>1169.750000</td>\n",
              "      <td>1.000000</td>\n",
              "      <td>365.250000</td>\n",
              "      <td>825.250000</td>\n",
              "      <td>887.250000</td>\n",
              "      <td>1.000000</td>\n",
              "      <td>1956.000000</td>\n",
              "      <td>1966.000000</td>\n",
              "      <td>1961.000000</td>\n",
              "    </tr>\n",
              "    <tr>\n",
              "      <th>50%</th>\n",
              "      <td>6.000000</td>\n",
              "      <td>1472.500000</td>\n",
              "      <td>2.000000</td>\n",
              "      <td>484.000000</td>\n",
              "      <td>1024.000000</td>\n",
              "      <td>1098.000000</td>\n",
              "      <td>2.000000</td>\n",
              "      <td>1976.000000</td>\n",
              "      <td>1995.000000</td>\n",
              "      <td>1982.000000</td>\n",
              "    </tr>\n",
              "    <tr>\n",
              "      <th>75%</th>\n",
              "      <td>7.000000</td>\n",
              "      <td>1742.250000</td>\n",
              "      <td>2.000000</td>\n",
              "      <td>578.750000</td>\n",
              "      <td>1338.750000</td>\n",
              "      <td>1409.500000</td>\n",
              "      <td>2.000000</td>\n",
              "      <td>2002.000000</td>\n",
              "      <td>2004.000000</td>\n",
              "      <td>2002.000000</td>\n",
              "    </tr>\n",
              "    <tr>\n",
              "      <th>max</th>\n",
              "      <td>10.000000</td>\n",
              "      <td>5642.000000</td>\n",
              "      <td>4.000000</td>\n",
              "      <td>1418.000000</td>\n",
              "      <td>6110.000000</td>\n",
              "      <td>5095.000000</td>\n",
              "      <td>4.000000</td>\n",
              "      <td>2010.000000</td>\n",
              "      <td>2010.000000</td>\n",
              "      <td>2010.000000</td>\n",
              "    </tr>\n",
              "  </tbody>\n",
              "</table>\n",
              "</div>\n",
              "      <button class=\"colab-df-convert\" onclick=\"convertToInteractive('df-94d74957-545c-4c47-aeb0-232562aed3a3')\"\n",
              "              title=\"Convert this dataframe to an interactive table.\"\n",
              "              style=\"display:none;\">\n",
              "        \n",
              "  <svg xmlns=\"http://www.w3.org/2000/svg\" height=\"24px\"viewBox=\"0 0 24 24\"\n",
              "       width=\"24px\">\n",
              "    <path d=\"M0 0h24v24H0V0z\" fill=\"none\"/>\n",
              "    <path d=\"M18.56 5.44l.94 2.06.94-2.06 2.06-.94-2.06-.94-.94-2.06-.94 2.06-2.06.94zm-11 1L8.5 8.5l.94-2.06 2.06-.94-2.06-.94L8.5 2.5l-.94 2.06-2.06.94zm10 10l.94 2.06.94-2.06 2.06-.94-2.06-.94-.94-2.06-.94 2.06-2.06.94z\"/><path d=\"M17.41 7.96l-1.37-1.37c-.4-.4-.92-.59-1.43-.59-.52 0-1.04.2-1.43.59L10.3 9.45l-7.72 7.72c-.78.78-.78 2.05 0 2.83L4 21.41c.39.39.9.59 1.41.59.51 0 1.02-.2 1.41-.59l7.78-7.78 2.81-2.81c.8-.78.8-2.07 0-2.86zM5.41 20L4 18.59l7.72-7.72 1.47 1.35L5.41 20z\"/>\n",
              "  </svg>\n",
              "      </button>\n",
              "      \n",
              "  <style>\n",
              "    .colab-df-container {\n",
              "      display:flex;\n",
              "      flex-wrap:wrap;\n",
              "      gap: 12px;\n",
              "    }\n",
              "\n",
              "    .colab-df-convert {\n",
              "      background-color: #E8F0FE;\n",
              "      border: none;\n",
              "      border-radius: 50%;\n",
              "      cursor: pointer;\n",
              "      display: none;\n",
              "      fill: #1967D2;\n",
              "      height: 32px;\n",
              "      padding: 0 0 0 0;\n",
              "      width: 32px;\n",
              "    }\n",
              "\n",
              "    .colab-df-convert:hover {\n",
              "      background-color: #E2EBFA;\n",
              "      box-shadow: 0px 1px 2px rgba(60, 64, 67, 0.3), 0px 1px 3px 1px rgba(60, 64, 67, 0.15);\n",
              "      fill: #174EA6;\n",
              "    }\n",
              "\n",
              "    [theme=dark] .colab-df-convert {\n",
              "      background-color: #3B4455;\n",
              "      fill: #D2E3FC;\n",
              "    }\n",
              "\n",
              "    [theme=dark] .colab-df-convert:hover {\n",
              "      background-color: #434B5C;\n",
              "      box-shadow: 0px 1px 3px 1px rgba(0, 0, 0, 0.15);\n",
              "      filter: drop-shadow(0px 1px 2px rgba(0, 0, 0, 0.3));\n",
              "      fill: #FFFFFF;\n",
              "    }\n",
              "  </style>\n",
              "\n",
              "      <script>\n",
              "        const buttonEl =\n",
              "          document.querySelector('#df-94d74957-545c-4c47-aeb0-232562aed3a3 button.colab-df-convert');\n",
              "        buttonEl.style.display =\n",
              "          google.colab.kernel.accessAllowed ? 'block' : 'none';\n",
              "\n",
              "        async function convertToInteractive(key) {\n",
              "          const element = document.querySelector('#df-94d74957-545c-4c47-aeb0-232562aed3a3');\n",
              "          const dataTable =\n",
              "            await google.colab.kernel.invokeFunction('convertToInteractive',\n",
              "                                                     [key], {});\n",
              "          if (!dataTable) return;\n",
              "\n",
              "          const docLinkHtml = 'Like what you see? Visit the ' +\n",
              "            '<a target=\"_blank\" href=https://colab.research.google.com/notebooks/data_table.ipynb>data table notebook</a>'\n",
              "            + ' to learn more about interactive tables.';\n",
              "          element.innerHTML = '';\n",
              "          dataTable['output_type'] = 'display_data';\n",
              "          await google.colab.output.renderOutput(dataTable, element);\n",
              "          const docLink = document.createElement('div');\n",
              "          docLink.innerHTML = docLinkHtml;\n",
              "          element.appendChild(docLink);\n",
              "        }\n",
              "      </script>\n",
              "    </div>\n",
              "  </div>\n",
              "  "
            ],
            "text/plain": [
              "       Overall Qual  Gr Liv Area  ...  Year Remod/Add  Garage Yr Blt\n",
              "count   1350.000000  1350.000000  ...     1350.000000    1350.000000\n",
              "mean       6.237037  1524.071111  ...     1985.258519    1978.457037\n",
              "std        1.370057   514.410852  ...       20.818442      25.771750\n",
              "min        2.000000   407.000000  ...     1950.000000    1895.000000\n",
              "25%        5.000000  1169.750000  ...     1966.000000    1961.000000\n",
              "50%        6.000000  1472.500000  ...     1995.000000    1982.000000\n",
              "75%        7.000000  1742.250000  ...     2004.000000    2002.000000\n",
              "max       10.000000  5642.000000  ...     2010.000000    2010.000000\n",
              "\n",
              "[8 rows x 10 columns]"
            ]
          },
          "metadata": {},
          "execution_count": 9
        }
      ]
    },
    {
      "cell_type": "code",
      "source": [
        "train[train['Garage Yr Blt'] > 2050]"
      ],
      "metadata": {
        "colab": {
          "base_uri": "https://localhost:8080/",
          "height": 81
        },
        "id": "hiON0VXsyXFF",
        "outputId": "90d74eca-0338-4a4e-9cf7-6e9d391ee15a"
      },
      "execution_count": null,
      "outputs": [
        {
          "output_type": "execute_result",
          "data": {
            "text/html": [
              "\n",
              "  <div id=\"df-29cc453f-5e20-489a-8b32-9cb38c8de762\">\n",
              "    <div class=\"colab-df-container\">\n",
              "      <div>\n",
              "<style scoped>\n",
              "    .dataframe tbody tr th:only-of-type {\n",
              "        vertical-align: middle;\n",
              "    }\n",
              "\n",
              "    .dataframe tbody tr th {\n",
              "        vertical-align: top;\n",
              "    }\n",
              "\n",
              "    .dataframe thead th {\n",
              "        text-align: right;\n",
              "    }\n",
              "</style>\n",
              "<table border=\"1\" class=\"dataframe\">\n",
              "  <thead>\n",
              "    <tr style=\"text-align: right;\">\n",
              "      <th></th>\n",
              "      <th>Overall Qual</th>\n",
              "      <th>Gr Liv Area</th>\n",
              "      <th>Exter Qual</th>\n",
              "      <th>Garage Cars</th>\n",
              "      <th>Garage Area</th>\n",
              "      <th>Kitchen Qual</th>\n",
              "      <th>Total Bsmt SF</th>\n",
              "      <th>1st Flr SF</th>\n",
              "      <th>Bsmt Qual</th>\n",
              "      <th>Full Bath</th>\n",
              "      <th>Year Built</th>\n",
              "      <th>Year Remod/Add</th>\n",
              "      <th>Garage Yr Blt</th>\n",
              "      <th>target</th>\n",
              "    </tr>\n",
              "  </thead>\n",
              "  <tbody>\n",
              "    <tr>\n",
              "      <th>254</th>\n",
              "      <td>8</td>\n",
              "      <td>1564</td>\n",
              "      <td>Gd</td>\n",
              "      <td>2</td>\n",
              "      <td>502</td>\n",
              "      <td>Ex</td>\n",
              "      <td>1546</td>\n",
              "      <td>1564</td>\n",
              "      <td>Gd</td>\n",
              "      <td>2</td>\n",
              "      <td>2006</td>\n",
              "      <td>2007</td>\n",
              "      <td>2207</td>\n",
              "      <td>267300</td>\n",
              "    </tr>\n",
              "  </tbody>\n",
              "</table>\n",
              "</div>\n",
              "      <button class=\"colab-df-convert\" onclick=\"convertToInteractive('df-29cc453f-5e20-489a-8b32-9cb38c8de762')\"\n",
              "              title=\"Convert this dataframe to an interactive table.\"\n",
              "              style=\"display:none;\">\n",
              "        \n",
              "  <svg xmlns=\"http://www.w3.org/2000/svg\" height=\"24px\"viewBox=\"0 0 24 24\"\n",
              "       width=\"24px\">\n",
              "    <path d=\"M0 0h24v24H0V0z\" fill=\"none\"/>\n",
              "    <path d=\"M18.56 5.44l.94 2.06.94-2.06 2.06-.94-2.06-.94-.94-2.06-.94 2.06-2.06.94zm-11 1L8.5 8.5l.94-2.06 2.06-.94-2.06-.94L8.5 2.5l-.94 2.06-2.06.94zm10 10l.94 2.06.94-2.06 2.06-.94-2.06-.94-.94-2.06-.94 2.06-2.06.94z\"/><path d=\"M17.41 7.96l-1.37-1.37c-.4-.4-.92-.59-1.43-.59-.52 0-1.04.2-1.43.59L10.3 9.45l-7.72 7.72c-.78.78-.78 2.05 0 2.83L4 21.41c.39.39.9.59 1.41.59.51 0 1.02-.2 1.41-.59l7.78-7.78 2.81-2.81c.8-.78.8-2.07 0-2.86zM5.41 20L4 18.59l7.72-7.72 1.47 1.35L5.41 20z\"/>\n",
              "  </svg>\n",
              "      </button>\n",
              "      \n",
              "  <style>\n",
              "    .colab-df-container {\n",
              "      display:flex;\n",
              "      flex-wrap:wrap;\n",
              "      gap: 12px;\n",
              "    }\n",
              "\n",
              "    .colab-df-convert {\n",
              "      background-color: #E8F0FE;\n",
              "      border: none;\n",
              "      border-radius: 50%;\n",
              "      cursor: pointer;\n",
              "      display: none;\n",
              "      fill: #1967D2;\n",
              "      height: 32px;\n",
              "      padding: 0 0 0 0;\n",
              "      width: 32px;\n",
              "    }\n",
              "\n",
              "    .colab-df-convert:hover {\n",
              "      background-color: #E2EBFA;\n",
              "      box-shadow: 0px 1px 2px rgba(60, 64, 67, 0.3), 0px 1px 3px 1px rgba(60, 64, 67, 0.15);\n",
              "      fill: #174EA6;\n",
              "    }\n",
              "\n",
              "    [theme=dark] .colab-df-convert {\n",
              "      background-color: #3B4455;\n",
              "      fill: #D2E3FC;\n",
              "    }\n",
              "\n",
              "    [theme=dark] .colab-df-convert:hover {\n",
              "      background-color: #434B5C;\n",
              "      box-shadow: 0px 1px 3px 1px rgba(0, 0, 0, 0.15);\n",
              "      filter: drop-shadow(0px 1px 2px rgba(0, 0, 0, 0.3));\n",
              "      fill: #FFFFFF;\n",
              "    }\n",
              "  </style>\n",
              "\n",
              "      <script>\n",
              "        const buttonEl =\n",
              "          document.querySelector('#df-29cc453f-5e20-489a-8b32-9cb38c8de762 button.colab-df-convert');\n",
              "        buttonEl.style.display =\n",
              "          google.colab.kernel.accessAllowed ? 'block' : 'none';\n",
              "\n",
              "        async function convertToInteractive(key) {\n",
              "          const element = document.querySelector('#df-29cc453f-5e20-489a-8b32-9cb38c8de762');\n",
              "          const dataTable =\n",
              "            await google.colab.kernel.invokeFunction('convertToInteractive',\n",
              "                                                     [key], {});\n",
              "          if (!dataTable) return;\n",
              "\n",
              "          const docLinkHtml = 'Like what you see? Visit the ' +\n",
              "            '<a target=\"_blank\" href=https://colab.research.google.com/notebooks/data_table.ipynb>data table notebook</a>'\n",
              "            + ' to learn more about interactive tables.';\n",
              "          element.innerHTML = '';\n",
              "          dataTable['output_type'] = 'display_data';\n",
              "          await google.colab.output.renderOutput(dataTable, element);\n",
              "          const docLink = document.createElement('div');\n",
              "          docLink.innerHTML = docLinkHtml;\n",
              "          element.appendChild(docLink);\n",
              "        }\n",
              "      </script>\n",
              "    </div>\n",
              "  </div>\n",
              "  "
            ],
            "text/plain": [
              "     Overall Qual  Gr Liv Area  ... Garage Yr Blt  target\n",
              "254             8         1564  ...          2207  267300\n",
              "\n",
              "[1 rows x 14 columns]"
            ]
          },
          "metadata": {},
          "execution_count": 10
        }
      ]
    },
    {
      "cell_type": "code",
      "source": [
        "train.loc[254, 'Garage Yr Blt'] = 2007"
      ],
      "metadata": {
        "id": "SR7INF25zPKz"
      },
      "execution_count": null,
      "outputs": []
    },
    {
      "cell_type": "code",
      "source": [
        "qual_cols = train.dtypes[train.dtypes == np.object].index\n",
        "\n",
        "def label_encoder(df_, qual_cols):\n",
        "    df = df_.copy()\n",
        "    mapping = {'Ex':5, 'Gd':4, 'TA':3, 'Fa':2, 'Po':1}\n",
        "\n",
        "    for col in qual_cols:\n",
        "        df[col] = df[col].map(mapping)\n",
        "    return df"
      ],
      "metadata": {
        "id": "oiLM05Z3z7sK"
      },
      "execution_count": null,
      "outputs": []
    },
    {
      "cell_type": "code",
      "source": [
        "train = label_encoder(train, qual_cols)\n",
        "test = label_encoder(test, qual_cols)"
      ],
      "metadata": {
        "id": "PMjhHMRx1yWr"
      },
      "execution_count": null,
      "outputs": []
    },
    {
      "cell_type": "code",
      "source": [
        "train"
      ],
      "metadata": {
        "colab": {
          "base_uri": "https://localhost:8080/",
          "height": 424
        },
        "id": "WYDCt6eO17vI",
        "outputId": "04d2d8dc-c15d-40f9-a549-b34dc9075a0f"
      },
      "execution_count": null,
      "outputs": [
        {
          "output_type": "execute_result",
          "data": {
            "text/html": [
              "\n",
              "  <div id=\"df-208aeade-0f6d-47ad-a924-f9d1b6f9495d\">\n",
              "    <div class=\"colab-df-container\">\n",
              "      <div>\n",
              "<style scoped>\n",
              "    .dataframe tbody tr th:only-of-type {\n",
              "        vertical-align: middle;\n",
              "    }\n",
              "\n",
              "    .dataframe tbody tr th {\n",
              "        vertical-align: top;\n",
              "    }\n",
              "\n",
              "    .dataframe thead th {\n",
              "        text-align: right;\n",
              "    }\n",
              "</style>\n",
              "<table border=\"1\" class=\"dataframe\">\n",
              "  <thead>\n",
              "    <tr style=\"text-align: right;\">\n",
              "      <th></th>\n",
              "      <th>Overall Qual</th>\n",
              "      <th>Gr Liv Area</th>\n",
              "      <th>Exter Qual</th>\n",
              "      <th>Garage Cars</th>\n",
              "      <th>Garage Area</th>\n",
              "      <th>Kitchen Qual</th>\n",
              "      <th>Total Bsmt SF</th>\n",
              "      <th>1st Flr SF</th>\n",
              "      <th>Bsmt Qual</th>\n",
              "      <th>Full Bath</th>\n",
              "      <th>Year Built</th>\n",
              "      <th>Year Remod/Add</th>\n",
              "      <th>Garage Yr Blt</th>\n",
              "      <th>target</th>\n",
              "    </tr>\n",
              "  </thead>\n",
              "  <tbody>\n",
              "    <tr>\n",
              "      <th>0</th>\n",
              "      <td>10</td>\n",
              "      <td>2392</td>\n",
              "      <td>5</td>\n",
              "      <td>3</td>\n",
              "      <td>968</td>\n",
              "      <td>5</td>\n",
              "      <td>2392</td>\n",
              "      <td>2392</td>\n",
              "      <td>5</td>\n",
              "      <td>2</td>\n",
              "      <td>2003</td>\n",
              "      <td>2003</td>\n",
              "      <td>2003</td>\n",
              "      <td>386250</td>\n",
              "    </tr>\n",
              "    <tr>\n",
              "      <th>1</th>\n",
              "      <td>7</td>\n",
              "      <td>1352</td>\n",
              "      <td>4</td>\n",
              "      <td>2</td>\n",
              "      <td>466</td>\n",
              "      <td>4</td>\n",
              "      <td>1352</td>\n",
              "      <td>1352</td>\n",
              "      <td>5</td>\n",
              "      <td>2</td>\n",
              "      <td>2006</td>\n",
              "      <td>2007</td>\n",
              "      <td>2006</td>\n",
              "      <td>194000</td>\n",
              "    </tr>\n",
              "    <tr>\n",
              "      <th>2</th>\n",
              "      <td>5</td>\n",
              "      <td>900</td>\n",
              "      <td>3</td>\n",
              "      <td>1</td>\n",
              "      <td>288</td>\n",
              "      <td>3</td>\n",
              "      <td>864</td>\n",
              "      <td>900</td>\n",
              "      <td>3</td>\n",
              "      <td>1</td>\n",
              "      <td>1967</td>\n",
              "      <td>1967</td>\n",
              "      <td>1967</td>\n",
              "      <td>123000</td>\n",
              "    </tr>\n",
              "    <tr>\n",
              "      <th>3</th>\n",
              "      <td>5</td>\n",
              "      <td>1174</td>\n",
              "      <td>3</td>\n",
              "      <td>2</td>\n",
              "      <td>576</td>\n",
              "      <td>4</td>\n",
              "      <td>680</td>\n",
              "      <td>680</td>\n",
              "      <td>3</td>\n",
              "      <td>1</td>\n",
              "      <td>1900</td>\n",
              "      <td>2006</td>\n",
              "      <td>2000</td>\n",
              "      <td>135000</td>\n",
              "    </tr>\n",
              "    <tr>\n",
              "      <th>4</th>\n",
              "      <td>7</td>\n",
              "      <td>1958</td>\n",
              "      <td>4</td>\n",
              "      <td>3</td>\n",
              "      <td>936</td>\n",
              "      <td>4</td>\n",
              "      <td>1026</td>\n",
              "      <td>1026</td>\n",
              "      <td>4</td>\n",
              "      <td>2</td>\n",
              "      <td>2005</td>\n",
              "      <td>2005</td>\n",
              "      <td>2005</td>\n",
              "      <td>250000</td>\n",
              "    </tr>\n",
              "    <tr>\n",
              "      <th>...</th>\n",
              "      <td>...</td>\n",
              "      <td>...</td>\n",
              "      <td>...</td>\n",
              "      <td>...</td>\n",
              "      <td>...</td>\n",
              "      <td>...</td>\n",
              "      <td>...</td>\n",
              "      <td>...</td>\n",
              "      <td>...</td>\n",
              "      <td>...</td>\n",
              "      <td>...</td>\n",
              "      <td>...</td>\n",
              "      <td>...</td>\n",
              "      <td>...</td>\n",
              "    </tr>\n",
              "    <tr>\n",
              "      <th>1345</th>\n",
              "      <td>6</td>\n",
              "      <td>1756</td>\n",
              "      <td>4</td>\n",
              "      <td>2</td>\n",
              "      <td>422</td>\n",
              "      <td>3</td>\n",
              "      <td>872</td>\n",
              "      <td>888</td>\n",
              "      <td>5</td>\n",
              "      <td>2</td>\n",
              "      <td>1996</td>\n",
              "      <td>1997</td>\n",
              "      <td>1996</td>\n",
              "      <td>204000</td>\n",
              "    </tr>\n",
              "    <tr>\n",
              "      <th>1346</th>\n",
              "      <td>9</td>\n",
              "      <td>2748</td>\n",
              "      <td>4</td>\n",
              "      <td>3</td>\n",
              "      <td>850</td>\n",
              "      <td>5</td>\n",
              "      <td>1850</td>\n",
              "      <td>1850</td>\n",
              "      <td>5</td>\n",
              "      <td>2</td>\n",
              "      <td>2006</td>\n",
              "      <td>2006</td>\n",
              "      <td>2006</td>\n",
              "      <td>390000</td>\n",
              "    </tr>\n",
              "    <tr>\n",
              "      <th>1347</th>\n",
              "      <td>5</td>\n",
              "      <td>1214</td>\n",
              "      <td>3</td>\n",
              "      <td>1</td>\n",
              "      <td>318</td>\n",
              "      <td>3</td>\n",
              "      <td>1214</td>\n",
              "      <td>1214</td>\n",
              "      <td>3</td>\n",
              "      <td>2</td>\n",
              "      <td>1967</td>\n",
              "      <td>1967</td>\n",
              "      <td>1967</td>\n",
              "      <td>143000</td>\n",
              "    </tr>\n",
              "    <tr>\n",
              "      <th>1348</th>\n",
              "      <td>5</td>\n",
              "      <td>894</td>\n",
              "      <td>3</td>\n",
              "      <td>2</td>\n",
              "      <td>440</td>\n",
              "      <td>3</td>\n",
              "      <td>864</td>\n",
              "      <td>894</td>\n",
              "      <td>4</td>\n",
              "      <td>1</td>\n",
              "      <td>1974</td>\n",
              "      <td>1974</td>\n",
              "      <td>1974</td>\n",
              "      <td>131000</td>\n",
              "    </tr>\n",
              "    <tr>\n",
              "      <th>1349</th>\n",
              "      <td>5</td>\n",
              "      <td>907</td>\n",
              "      <td>3</td>\n",
              "      <td>1</td>\n",
              "      <td>343</td>\n",
              "      <td>3</td>\n",
              "      <td>907</td>\n",
              "      <td>907</td>\n",
              "      <td>4</td>\n",
              "      <td>1</td>\n",
              "      <td>1978</td>\n",
              "      <td>1978</td>\n",
              "      <td>1978</td>\n",
              "      <td>140000</td>\n",
              "    </tr>\n",
              "  </tbody>\n",
              "</table>\n",
              "<p>1350 rows × 14 columns</p>\n",
              "</div>\n",
              "      <button class=\"colab-df-convert\" onclick=\"convertToInteractive('df-208aeade-0f6d-47ad-a924-f9d1b6f9495d')\"\n",
              "              title=\"Convert this dataframe to an interactive table.\"\n",
              "              style=\"display:none;\">\n",
              "        \n",
              "  <svg xmlns=\"http://www.w3.org/2000/svg\" height=\"24px\"viewBox=\"0 0 24 24\"\n",
              "       width=\"24px\">\n",
              "    <path d=\"M0 0h24v24H0V0z\" fill=\"none\"/>\n",
              "    <path d=\"M18.56 5.44l.94 2.06.94-2.06 2.06-.94-2.06-.94-.94-2.06-.94 2.06-2.06.94zm-11 1L8.5 8.5l.94-2.06 2.06-.94-2.06-.94L8.5 2.5l-.94 2.06-2.06.94zm10 10l.94 2.06.94-2.06 2.06-.94-2.06-.94-.94-2.06-.94 2.06-2.06.94z\"/><path d=\"M17.41 7.96l-1.37-1.37c-.4-.4-.92-.59-1.43-.59-.52 0-1.04.2-1.43.59L10.3 9.45l-7.72 7.72c-.78.78-.78 2.05 0 2.83L4 21.41c.39.39.9.59 1.41.59.51 0 1.02-.2 1.41-.59l7.78-7.78 2.81-2.81c.8-.78.8-2.07 0-2.86zM5.41 20L4 18.59l7.72-7.72 1.47 1.35L5.41 20z\"/>\n",
              "  </svg>\n",
              "      </button>\n",
              "      \n",
              "  <style>\n",
              "    .colab-df-container {\n",
              "      display:flex;\n",
              "      flex-wrap:wrap;\n",
              "      gap: 12px;\n",
              "    }\n",
              "\n",
              "    .colab-df-convert {\n",
              "      background-color: #E8F0FE;\n",
              "      border: none;\n",
              "      border-radius: 50%;\n",
              "      cursor: pointer;\n",
              "      display: none;\n",
              "      fill: #1967D2;\n",
              "      height: 32px;\n",
              "      padding: 0 0 0 0;\n",
              "      width: 32px;\n",
              "    }\n",
              "\n",
              "    .colab-df-convert:hover {\n",
              "      background-color: #E2EBFA;\n",
              "      box-shadow: 0px 1px 2px rgba(60, 64, 67, 0.3), 0px 1px 3px 1px rgba(60, 64, 67, 0.15);\n",
              "      fill: #174EA6;\n",
              "    }\n",
              "\n",
              "    [theme=dark] .colab-df-convert {\n",
              "      background-color: #3B4455;\n",
              "      fill: #D2E3FC;\n",
              "    }\n",
              "\n",
              "    [theme=dark] .colab-df-convert:hover {\n",
              "      background-color: #434B5C;\n",
              "      box-shadow: 0px 1px 3px 1px rgba(0, 0, 0, 0.15);\n",
              "      filter: drop-shadow(0px 1px 2px rgba(0, 0, 0, 0.3));\n",
              "      fill: #FFFFFF;\n",
              "    }\n",
              "  </style>\n",
              "\n",
              "      <script>\n",
              "        const buttonEl =\n",
              "          document.querySelector('#df-208aeade-0f6d-47ad-a924-f9d1b6f9495d button.colab-df-convert');\n",
              "        buttonEl.style.display =\n",
              "          google.colab.kernel.accessAllowed ? 'block' : 'none';\n",
              "\n",
              "        async function convertToInteractive(key) {\n",
              "          const element = document.querySelector('#df-208aeade-0f6d-47ad-a924-f9d1b6f9495d');\n",
              "          const dataTable =\n",
              "            await google.colab.kernel.invokeFunction('convertToInteractive',\n",
              "                                                     [key], {});\n",
              "          if (!dataTable) return;\n",
              "\n",
              "          const docLinkHtml = 'Like what you see? Visit the ' +\n",
              "            '<a target=\"_blank\" href=https://colab.research.google.com/notebooks/data_table.ipynb>data table notebook</a>'\n",
              "            + ' to learn more about interactive tables.';\n",
              "          element.innerHTML = '';\n",
              "          dataTable['output_type'] = 'display_data';\n",
              "          await google.colab.output.renderOutput(dataTable, element);\n",
              "          const docLink = document.createElement('div');\n",
              "          docLink.innerHTML = docLinkHtml;\n",
              "          element.appendChild(docLink);\n",
              "        }\n",
              "      </script>\n",
              "    </div>\n",
              "  </div>\n",
              "  "
            ],
            "text/plain": [
              "      Overall Qual  Gr Liv Area  ...  Garage Yr Blt  target\n",
              "0               10         2392  ...           2003  386250\n",
              "1                7         1352  ...           2006  194000\n",
              "2                5          900  ...           1967  123000\n",
              "3                5         1174  ...           2000  135000\n",
              "4                7         1958  ...           2005  250000\n",
              "...            ...          ...  ...            ...     ...\n",
              "1345             6         1756  ...           1996  204000\n",
              "1346             9         2748  ...           2006  390000\n",
              "1347             5         1214  ...           1967  143000\n",
              "1348             5          894  ...           1974  131000\n",
              "1349             5          907  ...           1978  140000\n",
              "\n",
              "[1350 rows x 14 columns]"
            ]
          },
          "metadata": {},
          "execution_count": 14
        }
      ]
    },
    {
      "cell_type": "code",
      "source": [
        "train_x = train.drop(['target'], axis = 1)\n",
        "train_y = np.log1p(train.target)\n",
        "\n",
        "target = test[train_x.columns]"
      ],
      "metadata": {
        "id": "9ABqegVN197Z"
      },
      "execution_count": null,
      "outputs": []
    },
    {
      "cell_type": "code",
      "source": [
        "target.fillna(target.mean(), inplace = True)"
      ],
      "metadata": {
        "id": "9hPzGpeO3VLz"
      },
      "execution_count": null,
      "outputs": []
    },
    {
      "cell_type": "code",
      "source": [
        "from sklearn.ensemble import RandomForestRegressor, GradientBoostingRegressor\n",
        "from sklearn.metrics import make_scorer\n",
        "from sklearn.model_selection import KFold"
      ],
      "metadata": {
        "id": "5-8etnEe3Zne"
      },
      "execution_count": null,
      "outputs": []
    },
    {
      "cell_type": "code",
      "source": [
        "def NMAE(true, pred):\n",
        "    mae = np.mean(np.abs(true-pred))\n",
        "    score = mae / np.mean(np.abs(true))\n",
        "    return score"
      ],
      "metadata": {
        "id": "-RQ87SVa36dt"
      },
      "execution_count": null,
      "outputs": []
    },
    {
      "cell_type": "code",
      "source": [
        "nmae_score = make_scorer(NMAE, greater_is_better = False)\n",
        "kf = KFold(n_splits = 10, random_state = 44, shuffle = True)"
      ],
      "metadata": {
        "id": "JyZu86xE4Aqn"
      },
      "execution_count": null,
      "outputs": []
    },
    {
      "cell_type": "code",
      "source": [
        "rf_pred = np.zeros(target.shape[0])\n",
        "rf_val = []\n",
        "\n",
        "for n, (train_idx, val_idx) in enumerate(kf.split(train_x, train_y)) :\n",
        "    print(f'{n + 1} FOLD Training.....')\n",
        "    tr_x, tr_y = train_x.iloc[train_idx], train_y.iloc[train_idx]\n",
        "    val_x, val_y = train_x.iloc[val_idx], np.expm1(train_y.iloc[val_idx])\n",
        "    \n",
        "    rf = RandomForestRegressor(random_state = 44, criterion = 'mae')\n",
        "    rf.fit(tr_x, tr_y)\n",
        "    \n",
        "    val_pred = np.expm1(rf.predict(val_x))\n",
        "    val_nmae = NMAE(val_y, val_pred)\n",
        "    rf_val.append(val_nmae)\n",
        "\n",
        "    print(f'{n + 1} FOLD NMAE = {val_nmae}\\n')\n",
        "    \n",
        "    fold_pred = rf.predict(target) / 10\n",
        "    rf_pred += fold_pred\n",
        "\n",
        "print(f'10FOLD Mean of NMAE = {np.mean(rf_val)} & std = {np.std(rf_val)}')"
      ],
      "metadata": {
        "colab": {
          "base_uri": "https://localhost:8080/"
        },
        "id": "6EbyAsHd4Ue3",
        "outputId": "e50ec7dd-a5f9-4cf9-c0bf-bc21688f45fc"
      },
      "execution_count": null,
      "outputs": [
        {
          "output_type": "stream",
          "name": "stdout",
          "text": [
            "1 FOLD Training.....\n"
          ]
        },
        {
          "output_type": "stream",
          "name": "stderr",
          "text": [
            "/usr/local/lib/python3.7/dist-packages/sklearn/ensemble/_forest.py:407: FutureWarning: Criterion 'mae' was deprecated in v1.0 and will be removed in version 1.2. Use `criterion='absolute_error'` which is equivalent.\n",
            "  FutureWarning,\n"
          ]
        },
        {
          "output_type": "stream",
          "name": "stdout",
          "text": [
            "1 FOLD NMAE = 0.08734158240358587\n",
            "\n",
            "2 FOLD Training.....\n"
          ]
        },
        {
          "output_type": "stream",
          "name": "stderr",
          "text": [
            "/usr/local/lib/python3.7/dist-packages/sklearn/ensemble/_forest.py:407: FutureWarning: Criterion 'mae' was deprecated in v1.0 and will be removed in version 1.2. Use `criterion='absolute_error'` which is equivalent.\n",
            "  FutureWarning,\n"
          ]
        },
        {
          "output_type": "stream",
          "name": "stdout",
          "text": [
            "2 FOLD NMAE = 0.09064716310292091\n",
            "\n",
            "3 FOLD Training.....\n"
          ]
        },
        {
          "output_type": "stream",
          "name": "stderr",
          "text": [
            "/usr/local/lib/python3.7/dist-packages/sklearn/ensemble/_forest.py:407: FutureWarning: Criterion 'mae' was deprecated in v1.0 and will be removed in version 1.2. Use `criterion='absolute_error'` which is equivalent.\n",
            "  FutureWarning,\n"
          ]
        },
        {
          "output_type": "stream",
          "name": "stdout",
          "text": [
            "3 FOLD NMAE = 0.1143903193646379\n",
            "\n",
            "4 FOLD Training.....\n"
          ]
        },
        {
          "output_type": "stream",
          "name": "stderr",
          "text": [
            "/usr/local/lib/python3.7/dist-packages/sklearn/ensemble/_forest.py:407: FutureWarning: Criterion 'mae' was deprecated in v1.0 and will be removed in version 1.2. Use `criterion='absolute_error'` which is equivalent.\n",
            "  FutureWarning,\n"
          ]
        },
        {
          "output_type": "stream",
          "name": "stdout",
          "text": [
            "4 FOLD NMAE = 0.10144759677100305\n",
            "\n",
            "5 FOLD Training.....\n"
          ]
        },
        {
          "output_type": "stream",
          "name": "stderr",
          "text": [
            "/usr/local/lib/python3.7/dist-packages/sklearn/ensemble/_forest.py:407: FutureWarning: Criterion 'mae' was deprecated in v1.0 and will be removed in version 1.2. Use `criterion='absolute_error'` which is equivalent.\n",
            "  FutureWarning,\n"
          ]
        },
        {
          "output_type": "stream",
          "name": "stdout",
          "text": [
            "5 FOLD NMAE = 0.08941588401425085\n",
            "\n",
            "6 FOLD Training.....\n"
          ]
        },
        {
          "output_type": "stream",
          "name": "stderr",
          "text": [
            "/usr/local/lib/python3.7/dist-packages/sklearn/ensemble/_forest.py:407: FutureWarning: Criterion 'mae' was deprecated in v1.0 and will be removed in version 1.2. Use `criterion='absolute_error'` which is equivalent.\n",
            "  FutureWarning,\n"
          ]
        },
        {
          "output_type": "stream",
          "name": "stdout",
          "text": [
            "6 FOLD NMAE = 0.11043400972902025\n",
            "\n",
            "7 FOLD Training.....\n"
          ]
        },
        {
          "output_type": "stream",
          "name": "stderr",
          "text": [
            "/usr/local/lib/python3.7/dist-packages/sklearn/ensemble/_forest.py:407: FutureWarning: Criterion 'mae' was deprecated in v1.0 and will be removed in version 1.2. Use `criterion='absolute_error'` which is equivalent.\n",
            "  FutureWarning,\n"
          ]
        },
        {
          "output_type": "stream",
          "name": "stdout",
          "text": [
            "7 FOLD NMAE = 0.10494830433224543\n",
            "\n",
            "8 FOLD Training.....\n"
          ]
        },
        {
          "output_type": "stream",
          "name": "stderr",
          "text": [
            "/usr/local/lib/python3.7/dist-packages/sklearn/ensemble/_forest.py:407: FutureWarning: Criterion 'mae' was deprecated in v1.0 and will be removed in version 1.2. Use `criterion='absolute_error'` which is equivalent.\n",
            "  FutureWarning,\n"
          ]
        },
        {
          "output_type": "stream",
          "name": "stdout",
          "text": [
            "8 FOLD NMAE = 0.09982868147391834\n",
            "\n",
            "9 FOLD Training.....\n"
          ]
        },
        {
          "output_type": "stream",
          "name": "stderr",
          "text": [
            "/usr/local/lib/python3.7/dist-packages/sklearn/ensemble/_forest.py:407: FutureWarning: Criterion 'mae' was deprecated in v1.0 and will be removed in version 1.2. Use `criterion='absolute_error'` which is equivalent.\n",
            "  FutureWarning,\n"
          ]
        },
        {
          "output_type": "stream",
          "name": "stdout",
          "text": [
            "9 FOLD NMAE = 0.08970800408680307\n",
            "\n",
            "10 FOLD Training.....\n"
          ]
        },
        {
          "output_type": "stream",
          "name": "stderr",
          "text": [
            "/usr/local/lib/python3.7/dist-packages/sklearn/ensemble/_forest.py:407: FutureWarning: Criterion 'mae' was deprecated in v1.0 and will be removed in version 1.2. Use `criterion='absolute_error'` which is equivalent.\n",
            "  FutureWarning,\n"
          ]
        },
        {
          "output_type": "stream",
          "name": "stdout",
          "text": [
            "10 FOLD NMAE = 0.1029577880026904\n",
            "\n",
            "10FOLD Mean of NMAE = 0.09911193332810761 & std = 0.008994899240859234\n"
          ]
        }
      ]
    },
    {
      "cell_type": "code",
      "source": [
        "gbr_pred = np.zeros(target.shape[0])\n",
        "gbr_val = []\n",
        "\n",
        "for n, (train_idx, val_idx) in enumerate(kf.split(train_x, train_y)) :\n",
        "    print(f'{n + 1} FOLD Training.....')\n",
        "    tr_x, tr_y = train_x.iloc[train_idx], train_y.iloc[train_idx]\n",
        "    val_x, val_y = train_x.iloc[val_idx], np.expm1(train_y.iloc[val_idx])\n",
        "    \n",
        "    gbr = GradientBoostingRegressor(random_state = 44, max_depth = 4, learning_rate = 0.02, n_estimators = 1000)\n",
        "    gbr.fit(tr_x, tr_y)\n",
        "    \n",
        "    val_pred = np.expm1(gbr.predict(val_x))\n",
        "    val_nmae = NMAE(val_y, val_pred)\n",
        "    gbr_val.append(val_nmae)\n",
        "\n",
        "    print(f'{n + 1} FOLD NMAE = {val_nmae}\\n')\n",
        "    \n",
        "    fold_pred = gbr.predict(target) / 10\n",
        "    gbr_pred += fold_pred\n",
        "    \n",
        "print(f'10FOLD Mean of NMAE = {np.mean(gbr_val)} & std = {np.std(gbr_val)}')"
      ],
      "metadata": {
        "colab": {
          "base_uri": "https://localhost:8080/"
        },
        "id": "CZFG4xXF49jx",
        "outputId": "95e23ecb-e5ce-43ed-a47f-748cfa2bd720"
      },
      "execution_count": null,
      "outputs": [
        {
          "output_type": "stream",
          "name": "stdout",
          "text": [
            "1 FOLD Training.....\n",
            "1 FOLD NMAE = 0.08084315299987234\n",
            "\n",
            "2 FOLD Training.....\n",
            "2 FOLD NMAE = 0.08661051923195466\n",
            "\n",
            "3 FOLD Training.....\n",
            "3 FOLD NMAE = 0.11553500855310073\n",
            "\n",
            "4 FOLD Training.....\n",
            "4 FOLD NMAE = 0.10658629212448274\n",
            "\n",
            "5 FOLD Training.....\n",
            "5 FOLD NMAE = 0.08688056513158735\n",
            "\n",
            "6 FOLD Training.....\n",
            "6 FOLD NMAE = 0.11041804743432142\n",
            "\n",
            "7 FOLD Training.....\n",
            "7 FOLD NMAE = 0.09798293142156794\n",
            "\n",
            "8 FOLD Training.....\n",
            "8 FOLD NMAE = 0.0996814877561571\n",
            "\n",
            "9 FOLD Training.....\n",
            "9 FOLD NMAE = 0.0962911912014514\n",
            "\n",
            "10 FOLD Training.....\n",
            "10 FOLD NMAE = 0.10134486969381684\n",
            "\n",
            "10FOLD Mean of NMAE = 0.09821740655483124 & std = 0.010486141137319837\n"
          ]
        }
      ]
    },
    {
      "cell_type": "code",
      "source": [
        "(rf_pred + gbr_pred) / 2"
      ],
      "metadata": {
        "colab": {
          "base_uri": "https://localhost:8080/"
        },
        "id": "P_7BVXHt55F3",
        "outputId": "d7010847-27cc-4290-cc28-1d8a93307c16"
      },
      "execution_count": null,
      "outputs": [
        {
          "output_type": "execute_result",
          "data": {
            "text/plain": [
              "array([12.71526156, 11.76473609, 12.07442635, ..., 11.24705274,\n",
              "       12.20990677, 11.85656048])"
            ]
          },
          "metadata": {},
          "execution_count": 26
        }
      ]
    },
    {
      "cell_type": "code",
      "source": [
        "submission['target'] = np.expm1((rf_pred + gbr_pred) / 2)"
      ],
      "metadata": {
        "id": "UbDPcAOB6MUh"
      },
      "execution_count": null,
      "outputs": []
    },
    {
      "cell_type": "code",
      "source": [
        "submission.to_csv('./submission_2.csv', index=False)"
      ],
      "metadata": {
        "id": "d9PRj4mQ6ZiT"
      },
      "execution_count": null,
      "outputs": []
    },
    {
      "cell_type": "code",
      "source": [
        ""
      ],
      "metadata": {
        "id": "8Fxe1DH86fUB"
      },
      "execution_count": null,
      "outputs": []
    }
  ]
}